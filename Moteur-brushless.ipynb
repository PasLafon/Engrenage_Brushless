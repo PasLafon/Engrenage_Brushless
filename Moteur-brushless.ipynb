{
 "cells": [
  {
   "cell_type": "markdown",
   "metadata": {},
   "source": [
    "# Conception d'un moulin à eau\n",
    "## Correction"
   ]
  },
  {
   "cell_type": "markdown",
   "metadata": {},
   "source": [
    "<img src=\"banc-essai-brushless.png\" width=\"500\" style=\"float:center\">\n",
    "<img src=\"brushless-donnees-constructeur.png\" width=\"500\" style=\"float:center\">"
   ]
  },
  {
   "cell_type": "markdown",
   "metadata": {},
   "source": [
    "### 1.1 Verification du train d'engrenage OneDrive :\n"
   ]
  },
  {
   "cell_type": "markdown",
   "metadata": {},
   "source": [
    "**Question 1):**\n",
    "\n",
    "Rapport de reduction et couple maximal sur (1):"
   ]
  },
  {
   "cell_type": "markdown",
   "metadata": {},
   "source": [
    "$$i=\\dfrac{\\omega_2}{\\omega_1}=\\dfrac{N_2}{N_1}=\\dfrac{Z_1}{Z_2}=\\dfrac{r_1}{r_2}$$\n",
    "\n",
    "Avec $T$ l'effort tangentiel au rayon primitif $r_1$ et $r_2$ :\n",
    "$$C_2 = r_2T\\quad C_1 = r_1T = ir_2T = iC_2$$"
   ]
  },
  {
   "cell_type": "code",
   "execution_count": 5,
   "metadata": {},
   "outputs": [
    {
     "name": "stdout",
     "output_type": "stream",
     "text": [
      "Rapport de réduction 0.167\n",
      "Couple sur (1) 1.667 N.m\n"
     ]
    }
   ],
   "source": [
    "N1 = 1500 # tr/min\n",
    "N2 =  250 # tr/min\n",
    "C2 =   10 # N.m\n",
    "\n",
    "i = N2/N1\n",
    "C1 = C2*i\n",
    "print('Rapport de réduction %.3f\\nCouple sur (1) %.3f N.m'%(i,C1))"
   ]
  },
  {
   "cell_type": "markdown",
   "metadata": {},
   "source": [
    "**Question 2):**\n",
    "\n",
    "Calculez l'angle de pression de fonctionnement, $\\alpha$, et la relation entre $m_0$ (module de taillage) et $m$ (module en fonctionnement)."
   ]
  },
  {
   "cell_type": "markdown",
   "metadata": {},
   "source": [
    "<img src=\"entraxe_deport1.png\" width=\"300\" style=\"float:left\">\n",
    "<img src=\"entraxe_deport2.png\" width=\"300\" style=\"float:left\">"
   ]
  },
  {
   "cell_type": "markdown",
   "metadata": {},
   "source": [
    "L'entraxe de fonctionnement $a$ s'écrit avec l'angle de pression en fonctionnement $\\alpha$ :\n",
    "$$a = \\frac{r_{b1}}{\\cos\\alpha} + \\frac{r_{b2}}{\\cos\\alpha}$$\n",
    "L'entraxe de taillage $a_0$ s'écrit avec l'angle de pression de taillage $\\alpha_0$ :\n",
    "$$a_0 = \\frac{r_{b1}}{\\cos\\alpha_0} + \\frac{r_{b2}}{\\cos\\alpha_0}$$"
   ]
  },
  {
   "cell_type": "markdown",
   "metadata": {},
   "source": [
    "$\\DeclareMathOperator{\\inv}{inv}$\n",
    "<div class=\"alert alert-info\">     \n",
    "Engrenement sans jeux :\n",
    "    $$\\inv(\\alpha)-\\inv(\\alpha_0)=2\\tan\\alpha_0\\dfrac{x_1+x_2}{Z_1+Z_2}$$\n",
    "\n",
    "Avec:\n",
    "    $$\\inv(x)=\\tan(x)-x\\text{ et $x$ en radians}$$    \n",
    "Relation entre le module de taillage $m_0$ et de fonctionnement $m_1$ :\n",
    "    $$m\\cos\\alpha=m_0\\cos\\alpha_0$$   \n",
    "</div>"
   ]
  },
  {
   "cell_type": "code",
   "execution_count": 7,
   "metadata": {},
   "outputs": [
    {
     "name": "stdout",
     "output_type": "stream",
     "text": [
      "alpha : 20.0 °\n"
     ]
    }
   ],
   "source": [
    "import numpy as np\n",
    "alpha0=20\n",
    "alpha = alpha0\n",
    "\n",
    "print('alpha : %.1f °'%alpha)"
   ]
  },
  {
   "cell_type": "markdown",
   "metadata": {},
   "source": [
    "**Question 3):**\n",
    "\n",
    "Avec l'entraxe donné par le contructeur, calcul les rayons primitifs de fonctionnement et le nombre de dents des deux roues d'engrenage $E_1$ et $E_2$."
   ]
  },
  {
   "cell_type": "markdown",
   "metadata": {},
   "source": [
    "Les rayons primitifs s'obtient à partir de l'entraxe $a$ et du rapport de réduction $i$:\n",
    "\n",
    "\n",
    "$$r_1 + r_2 = a=a_0 $$\n",
    "\n",
    "\n",
    "$$r_1=\\dfrac{ai}{1+i}\\quad r_2=\\dfrac{a}{1+i}$$"
   ]
  },
  {
   "cell_type": "code",
   "execution_count": 12,
   "metadata": {},
   "outputs": [
    {
     "name": "stdout",
     "output_type": "stream",
     "text": [
      "Rayon primitif r1 = 9.61mm ,r2 = 57.69mm\n"
     ]
    }
   ],
   "source": [
    "a = 67.3 # Entraxe constructeur mm\n",
    "r1 = (a*i)/(1+i)\n",
    "r2 = a/(1+i)\n",
    "print('Rayon primitif r1 = %.2fmm ,r2 = %.2fmm'%(r1,r2))"
   ]
  },
  {
   "cell_type": "markdown",
   "metadata": {},
   "source": [
    "Pour les nombres de dents, on peut chercher quelques combinaisons convenables avec un extrait de la série de modules normalisés "
   ]
  },
  {
   "cell_type": "code",
   "execution_count": 89,
   "metadata": {},
   "outputs": [
    {
     "name": "stdout",
     "output_type": "stream",
     "text": [
      "m : 0.75 Z1 :17.00  Z2 :102.00 Enraxe :  44.62\n",
      "m : 0.75 Z1 :18.00  Z2 :108.00 Enraxe :  47.25\n",
      "m : 0.75 Z1 :19.00  Z2 :114.00 Enraxe :  49.88\n",
      "m : 0.75 Z1 :20.00  Z2 :120.00 Enraxe :  52.50\n",
      "m : 0.75 Z1 :21.00  Z2 :126.00 Enraxe :  55.12\n",
      "m : 0.75 Z1 :22.00  Z2 :132.00 Enraxe :  57.75\n",
      "m : 0.75 Z1 :23.00  Z2 :138.00 Enraxe :  60.38\n",
      "m : 1.00 Z1 :17.00  Z2 :102.00 Enraxe :  59.50\n",
      "m : 1.00 Z1 :18.00  Z2 :108.00 Enraxe :  63.00\n",
      "m : 1.00 Z1 :19.00  Z2 :114.00 Enraxe :  66.50\n",
      "m : 1.00 Z1 :20.00  Z2 :120.00 Enraxe :  70.00\n",
      "m : 1.00 Z1 :21.00  Z2 :126.00 Enraxe :  73.50\n",
      "m : 1.00 Z1 :22.00  Z2 :132.00 Enraxe :  77.00\n",
      "m : 1.00 Z1 :23.00  Z2 :138.00 Enraxe :  80.50\n",
      "m : 1.25 Z1 :17.00  Z2 :102.00 Enraxe :  74.38\n",
      "m : 1.25 Z1 :18.00  Z2 :108.00 Enraxe :  78.75\n",
      "m : 1.25 Z1 :19.00  Z2 :114.00 Enraxe :  83.12\n",
      "m : 1.25 Z1 :20.00  Z2 :120.00 Enraxe :  87.50\n",
      "m : 1.25 Z1 :21.00  Z2 :126.00 Enraxe :  91.88\n",
      "m : 1.25 Z1 :22.00  Z2 :132.00 Enraxe :  96.25\n",
      "m : 1.25 Z1 :23.00  Z2 :138.00 Enraxe : 100.62\n"
     ]
    }
   ],
   "source": [
    "TZ1 = np.array((17,18,19,20,21,22,23))\n",
    "Tm = np.array((0.75,1,1.25))\n",
    "for m in Tm:\n",
    "    for Z1 in TZ1:\n",
    "        Z2 = float(Z1)/i\n",
    "        a = m*(Z1+Z2)/2\n",
    "        print('m :%5.2f Z1 :%3.2f  Z2 :%.2f Enraxe : %6.2f'%(m,Z1,Z2,a))"
   ]
  },
  {
   "cell_type": "markdown",
   "metadata": {},
   "source": [
    "**Question 4):**\n",
    "\n",
    "Contrainte en pied de dents pour $E_1$ :"
   ]
  },
  {
   "cell_type": "markdown",
   "metadata": {},
   "source": [
    "<div class=\"alert alert-info\" > \n",
    "Contrainte en pieds de dent (formule approchée) :\n",
    "    $$\\sigma=\\frac{5.5T}{b m}$$\n",
    "</div>  "
   ]
  },
  {
   "cell_type": "markdown",
   "metadata": {},
   "source": [
    "$$\\sigma=\\frac{5.5T}{b m_0}=\\frac{5.5C_1}{b m_0 r_1} =\\frac{5.5C_1}{b m_0 a}\\frac{1+i}{i}$$\n",
    "    \n",
    "$$\\sigma \\leq \\sigma_{FLim}\\Rightarrow b m_0\\geq \\frac{5.5C_1}{\\sigma_{FLim} a}\\frac{1+i}{i}$$"
   ]
  },
  {
   "cell_type": "markdown",
   "metadata": {},
   "source": [
    "Doc constructeur -> acier non trempé "
   ]
  },
  {
   "cell_type": "code",
   "execution_count": 72,
   "metadata": {},
   "outputs": [
    {
     "name": "stdout",
     "output_type": "stream",
     "text": [
      "Example de valeurs de bm0 en mm^2 : [5.1  4.4  3.86 2.77]\n"
     ]
    }
   ],
   "source": [
    "sigFlim = np.array((125,145,165,230))\n",
    "bm0 = (5.5*C1*1e3)/(sigFlim*a)*(1+i)/i\n",
    "print('Example de valeurs de bm0 en mm^2 :',np.round(bm0,2))"
   ]
  },
  {
   "cell_type": "markdown",
   "metadata": {},
   "source": [
    "**Question 5):**\n",
    "\n",
    "Pression de contact pour $E_1$ :"
   ]
  },
  {
   "cell_type": "markdown",
   "metadata": {},
   "source": [
    "<div class=\"alert alert-info\" > \n",
    "Pression maxi de Hertz : $$\\mathcal{P}_{H}=\\sqrt{\\frac{T}{b\\cos\\alpha_0}\\frac{r_1+r_2}{r_1r_2\\sin\\alpha_0}\\frac{E^*}{\\pi}}\\quad E^*=\\frac{E}{2(1-\\nu^2)}$$\n",
    "</div>"
   ]
  },
  {
   "cell_type": "markdown",
   "metadata": {},
   "source": [
    "$$\\mathcal{P}_{H} \\leq \\sigma_{Hmax}$$\n",
    "\n",
    "$$b\\geq\\frac{T}{\\sigma_{Hmax}^2\\cos\\alpha_0}\\frac{r_1+r_2}{r_1r_2\\sin\\alpha_0}\\frac{E^*}{\\pi}$$"
   ]
  },
  {
   "cell_type": "code",
   "execution_count": 77,
   "metadata": {},
   "outputs": [
    {
     "name": "stdout",
     "output_type": "stream",
     "text": [
      "E*    =115385 MPa\n",
      "bmini en mm : [0.16 0.14 0.13 0.08]\n"
     ]
    }
   ],
   "source": [
    "E=210000 # E en MPa\n",
    "nu=0.3 # pour un acier.\n",
    "Eet=E/(2*(1-nu*nu))\n",
    "T = C1/r1\n",
    "print('E*    =%.f MPa'%Eet)\n",
    "\n",
    "sigHlim = np.array((315,360,390,615))\n",
    "\n",
    "bmini = np.sqrt(T*(r1+r2)*Eet/(sigHlim**2*np.cos(alpha*np.pi/180)*r1*r2*np.sin(alpha*np.pi/180)*np.pi))\n",
    "print('bmini en mm :',np.round(bmini,2))"
   ]
  },
  {
   "cell_type": "markdown",
   "metadata": {},
   "source": [
    "**Question 6):**\n",
    "\n",
    "Matériaux compatible avec la doc constructeur ... qui annonce un couple maxi de 83 N.m"
   ]
  },
  {
   "cell_type": "code",
   "execution_count": 81,
   "metadata": {},
   "outputs": [
    {
     "name": "stdout",
     "output_type": "stream",
     "text": [
      "Example de valeurs de bm0 en mm^2 : [254.05 219.01 192.46 138.07 124.54 117.62 100.81  94.8   89.45  87.\n",
      "  83.57  81.43]\n",
      "bmini en mm : [1.1  0.96 0.89 0.56 0.49 0.46 0.42 0.38 0.27 0.26 0.26 2.31]\n"
     ]
    }
   ],
   "source": [
    "C1 = 83 # couple maxi doc constructeur ...\n",
    "\n",
    "sigFlim = np.array((125,145,165,230,255,270,315,335,355,365,380,390))\n",
    "bm0 = (5.5*C1*1e3)/(sigFlim*a)*(1+i)/i\n",
    "print('Example de valeurs de bm0 en mm^2 :',np.round(bm0,2))\n",
    "\n",
    "T = C1/r1\n",
    "sigHlim = np.array((315,360,390,615,710,750,830,900,1300,1320,1350,150))\n",
    "bmini = np.sqrt(T*(r1+r2)*Eet/(sigHlim**2*np.cos(alpha*np.pi/180)*r1*r2*np.sin(alpha*np.pi/180)*np.pi))\n",
    "print('bmini en mm :',np.round(bmini,2))"
   ]
  },
  {
   "cell_type": "code",
   "execution_count": 90,
   "metadata": {},
   "outputs": [
    {
     "name": "stdout",
     "output_type": "stream",
     "text": [
      "17.09726434082606\n"
     ]
    }
   ],
   "source": [
    "x1 = 0\n",
    "Zmini = 2*(1-x1)/np.sin(alpha*np.pi/180)**2\n",
    "print(Zmini)"
   ]
  },
  {
   "cell_type": "markdown",
   "metadata": {},
   "source": [
    "Les indications de la doc sont peu fiables -> le couple maxi est certainement largement surtestimé !!!m"
   ]
  },
  {
   "cell_type": "code",
   "execution_count": null,
   "metadata": {},
   "outputs": [],
   "source": []
  },
  {
   "cell_type": "markdown",
   "metadata": {},
   "source": [
    "**Question 7):**\n",
    "\n",
    "Angle de pression en fonctionnement pour $x_1=0.7$ et $x_2=-0.2$"
   ]
  },
  {
   "cell_type": "markdown",
   "metadata": {},
   "source": [
    "<div class=\"alert alert-info\" >       \n",
    "Angle de pression de fonctionnement  $\\alpha$ s'obtient par la résolution de la fonction non linéaire suivante:  \n",
    "    $$\\inv(\\alpha) - \\inv(\\alpha_0) - 2\\tan\\alpha_0\\dfrac{(x_1+x_2)m_{0}\\cos\\alpha_0}{2a\\cos\\alpha}=0$$  \n",
    "       \n",
    "</div>"
   ]
  },
  {
   "cell_type": "code",
   "execution_count": 101,
   "metadata": {},
   "outputs": [
    {
     "name": "stdout",
     "output_type": "stream",
     "text": [
      "Somme des déports : 0.000\n"
     ]
    }
   ],
   "source": [
    "Z1 = 18\n",
    "Z2 = Z1/i\n",
    "alpha0 = 20\n",
    "alpha1 = 20\n",
    "\n",
    "def inv(x):\n",
    "    return np.tan(x)-x\n",
    "\n",
    "somdep = (inv(alpha1*np.pi/180) - inv(alpha0*np.pi/180))*(Z1+Z2)/(2*np.tan(alpha0*np.pi/180))\n",
    "print('Somme des déports : %.3f'%somdep)"
   ]
  },
  {
   "cell_type": "markdown",
   "metadata": {},
   "source": [
    "**Question 6):**\n",
    "\n",
    "Estimez numériquement l'équilibrage à l'usure des roues $E_1$ et $E_2$. Proposez une solution\n",
    "si l'équilibrage n'est pas satisfaisant."
   ]
  },
  {
   "cell_type": "markdown",
   "metadata": {},
   "source": [
    "<div class=\"alert alert-info\"> \n",
    "Le rapport de conduite est la grandeur sans dimension :\n",
    "$$C=\\varepsilon_\\alpha=\\dfrac{AI}{p_b} + \\dfrac{IB}{p_b}$$\n",
    "<br>\n",
    "Avec :\n",
    "    <li>$AI=\\sqrt{(r_1+h_{a1})^2-(r_1\\cos\\alpha)^2}-r_1\\sin\\alpha$ : Longueur d'appproche dans le mvt d'engrènement.</li><br>\n",
    "    <li>$IB=\\sqrt{(r_2+h_{a2})^2-(r_2\\cos\\alpha)^2}-r_2\\sin\\alpha$  : Longueur de retrait dans le mvt. d'engrènement.</li><br>\n",
    "    <li>$p_b = \\pi m\\cos\\alpha$ : Pas de base, i.e distance entre 2 flancs consécutifs de la denture prise sur le diamètre de base.</li><br>\n",
    "<br>\n",
    "Le rapport de conduite indique le nombre de dents simultanément en contact lors de l'engrènemenet, il ne doit jamais être inférieur à 1. En pratique on essaie d'avoir $\\varepsilon_\\alpha \\geq \\simeq 1.3$.\n",
    "</div>"
   ]
  },
  {
   "cell_type": "markdown",
   "metadata": {},
   "source": [
    "<div class=\"alert alert-info\">\n",
    "Au cours de l'engrènement il y a entre la dent menante et la menée :\n",
    "<li>Roulement et glissement sur les longueurs d'approche et de retrait, ce glissement est maximal en $A$ et en $B$.</li>\n",
    "<li>Roulement sans glissement au point de contact $I$.</li>\n",
    "<br>\n",
    "L'usure est fonction de la vitesse de glissement et de la pression de contact, pour les engrenanges elle est inévitable, en pratique on cherche à la limiter et à équilibrer les usures de la roue et pignon, c'est à dire à égaliser les glissements spécifiques maximuns de la roue et du pignon.\n",
    "<br>\n",
    "<br>\n",
    "On compare :\n",
    " <li>Pour roue : $\\dfrac{AI}{r_2\\sin\\alpha}$.</li>\n",
    " <li>Pour le pignon : $\\dfrac{IB}{r_1\\sin\\alpha}$.</li>\n",
    "</div>"
   ]
  },
  {
   "cell_type": "code",
   "execution_count": 41,
   "metadata": {},
   "outputs": [
    {
     "name": "stdout",
     "output_type": "stream",
     "text": [
      "Gliss. spec. maxi roue(1) :0.6138  roue(2) :0.1348\n",
      "Coef usure   maxi roue(1) :85.33   roue(2) :18.73\n"
     ]
    }
   ],
   "source": [
    "alpha = 20\n",
    "calpha=np.cos(alpha*np.pi/180)\n",
    "salpha=np.sin(alpha*np.pi/180)\n",
    "\n",
    "# Rayons sur le pignon :\n",
    "x1=-0.25\n",
    "r1 =Z1*m/2\n",
    "rb1 = r1*calpha\n",
    "ha1 = m*(1+x1)\n",
    "# Rayons sur la roue :\n",
    "x2 = 0.25\n",
    "r2 =Z2*m/2\n",
    "rb2 = r2*calpha\n",
    "ha2 = m*(1+x2)\n",
    "# Pas de base :\n",
    "pb = np.pi*m*calpha\n",
    "# Longueur d'approche et de retrait :\n",
    "IH1 = r1*salpha\n",
    "IH2 = r2*salpha\n",
    "AI = np.sqrt((r1+ha1)**2 -rb1**2)-IH1\n",
    "IB = np.sqrt((r2+ha2)**2 -rb2**2)-IH2\n",
    "# Calcul des glissements :\n",
    "Gs1 = AI/IH2\n",
    "Gs2 = IB/IH1\n",
    "print('Gliss. spec. maxi roue(1) :%.4g  roue(2) :%.4g'%(Gs1,Gs2))\n",
    "# Coefficient d'usure :\n",
    "us1 = AI/pb*Z1\n",
    "us2 = IB/pb*Z2\n",
    "print('Coef usure   maxi roue(1) :%.4g   roue(2) :%.4g'%(us1,us2))"
   ]
  }
 ],
 "metadata": {
  "kernelspec": {
   "display_name": "Python 3",
   "language": "python",
   "name": "python3"
  },
  "language_info": {
   "codemirror_mode": {
    "name": "ipython",
    "version": 3
   },
   "file_extension": ".py",
   "mimetype": "text/x-python",
   "name": "python",
   "nbconvert_exporter": "python",
   "pygments_lexer": "ipython3",
   "version": "3.8.5"
  }
 },
 "nbformat": 4,
 "nbformat_minor": 4
}
