{
 "cells": [
  {
   "cell_type": "markdown",
   "metadata": {},
   "source": [
    "# Conception d'un moulin à eau\n",
    "## Correction"
   ]
  },
  {
   "cell_type": "markdown",
   "metadata": {},
   "source": [
    "<img src=\"banc-essai-brushless.png\" width=\"70%\" style=\"float:center\">\n",
    "<img src=\"brushless-donnees-constructeur.png\" width=\"80%\" style=\"float:center\">\n",
    "<img src=\"donnee_modules_materiaux.png\" width=\"90%\" style=\"float:center\">"
   ]
  },
  {
   "cell_type": "markdown",
   "metadata": {},
   "source": [
    "### 1.1 Verification du train d'engrenage OneDrive :\n"
   ]
  },
  {
   "cell_type": "markdown",
   "metadata": {},
   "source": [
    "**Question 1):**\n",
    "\n",
    "Rapport de reduction et couple maximal sur (1):"
   ]
  },
  {
   "cell_type": "markdown",
   "metadata": {},
   "source": [
    "$$i=\\dfrac{\\omega_2}{\\omega_1}=\\dfrac{N_2}{N_1}=\\dfrac{Z_1}{Z_2}=\\dfrac{r_1}{r_2}$$\n",
    "\n",
    "$$\\eta=\\frac{P_2}{P_1}=\\frac{C_2\\omega_2}{C_1\\omega_1}=\\frac{C_2}{C_1}i\\Rightarrow C1=\\frac{1}{\\eta}C_2i$$\n",
    "\n",
    "Avec $T_1,T_2$ l'effort tangentiel au rayon primitif pour $r_1$ et $r_2$ :\n",
    "$$C_2 = r_2T_2\\quad C_1 = r_1T_2\\Rightarrow T_2=\\eta T_1 !!$$"
   ]
  },
  {
   "cell_type": "code",
   "execution_count": 248,
   "metadata": {},
   "outputs": [
    {
     "name": "stdout",
     "output_type": "stream",
     "text": [
      "Rapport de réduction 0.167\n",
      "Couple sur (1) 1.736 N.m\n"
     ]
    }
   ],
   "source": [
    "import numpy as np\n",
    "N1 = 1500 # tr/min\n",
    "N2 =  250 # tr/min\n",
    "C2 =   10 # N.m\n",
    "eta = 0.96\n",
    "i = N2/N1\n",
    "C1 = C2*i/eta\n",
    "print('Rapport de réduction %.3f\\nCouple sur (1) %.3f N.m'%(i,C1))"
   ]
  },
  {
   "cell_type": "markdown",
   "metadata": {},
   "source": [
    "**Question 2):**\n",
    "\n",
    "Calculez l'angle de pression de fonctionnement, $\\alpha$, et la relation entre $m_0$ (module de taillage) et $m$ (module en fonctionnement)."
   ]
  },
  {
   "cell_type": "markdown",
   "metadata": {},
   "source": [
    "<img src=\"entraxe_deport1.png\" width=\"300\" style=\"float:left\">\n",
    "<img src=\"entraxe_deport2.png\" width=\"300\" style=\"float:left\">"
   ]
  },
  {
   "cell_type": "markdown",
   "metadata": {},
   "source": [
    "L'entraxe de fonctionnement $a$ s'écrit avec l'angle de pression en fonctionnement $\\alpha$ :\n",
    "$$a = \\frac{r_{b1}}{\\cos\\alpha} + \\frac{r_{b2}}{\\cos\\alpha}$$\n",
    "L'entraxe de taillage $a_0$ s'écrit avec l'angle de pression de taillage $\\alpha_0$ :\n",
    "$$a_0 = \\frac{r_{b1}}{\\cos\\alpha_0} + \\frac{r_{b2}}{\\cos\\alpha_0}$$"
   ]
  },
  {
   "cell_type": "markdown",
   "metadata": {},
   "source": [
    "$\\DeclareMathOperator{\\inv}{inv}$\n",
    "<div class=\"alert alert-info\">     \n",
    "Engrenement sans jeux :\n",
    "    $$\\inv(\\alpha)-\\inv(\\alpha_0)=2\\tan\\alpha_0\\dfrac{x_1+x_2}{Z_1+Z_2}$$\n",
    "\n",
    "Avec:\n",
    "    $$\\inv(x)=\\tan(x)-x\\text{ et $x$ en radians}$$    \n",
    "Relation entre les grandeurs de taillage (module et entraxe) $m_0$, $a_0$ et de fonctionnement $m$, $a$ :\n",
    "    $$m\\cos\\alpha=m_0\\cos\\alpha_0$$  \n",
    "    $$a\\cos\\alpha=a_0\\cos\\alpha_0$$  \n",
    "</div>"
   ]
  },
  {
   "cell_type": "markdown",
   "metadata": {},
   "source": [
    "Ici $x_1=x_2=0$ donc $\\alpha_0 = \\alpha$."
   ]
  },
  {
   "cell_type": "code",
   "execution_count": 249,
   "metadata": {},
   "outputs": [
    {
     "name": "stdout",
     "output_type": "stream",
     "text": [
      "alpha : 20.0 °\n"
     ]
    }
   ],
   "source": [
    "alpha0=20\n",
    "alpha = alpha0\n",
    "\n",
    "print('alpha : %.1f °'%alpha)"
   ]
  },
  {
   "cell_type": "markdown",
   "metadata": {},
   "source": [
    "**Question 3):**\n",
    "\n",
    "Avec l'entraxe donné par le contructeur, calcul les rayons primitifs de fonctionnement et le nombre de dents des deux roues d'engrenage $E_1$ et $E_2$."
   ]
  },
  {
   "cell_type": "markdown",
   "metadata": {},
   "source": [
    "Les rayons primitifs s'obtient à partir de l'entraxe $a$ et du rapport de réduction $i$:\n",
    "\n",
    "\n",
    "$$r_1 + r_2 = a=a_0 $$\n",
    "\n",
    "\n",
    "$$r_1=\\dfrac{ai}{1+i}\\quad r_2=\\dfrac{a}{1+i}$$"
   ]
  },
  {
   "cell_type": "code",
   "execution_count": 250,
   "metadata": {},
   "outputs": [
    {
     "name": "stdout",
     "output_type": "stream",
     "text": [
      "Rayon primitif r1 = 9.61mm ,r2 = 57.69mm\n"
     ]
    }
   ],
   "source": [
    "a = 67.3 # Entraxe constructeur mm\n",
    "r1 = (a*i)/(1+i)\n",
    "r2 = a/(1+i)\n",
    "print('Rayon primitif r1 = %.2fmm ,r2 = %.2fmm'%(r1,r2))"
   ]
  },
  {
   "cell_type": "markdown",
   "metadata": {},
   "source": [
    "Pour les nombres de dents, on peut chercher quelques combinaisons convenables avec un extrait de la série de modules normalisés "
   ]
  },
  {
   "cell_type": "code",
   "execution_count": 251,
   "metadata": {},
   "outputs": [
    {
     "name": "stdout",
     "output_type": "stream",
     "text": [
      "m : 0.80 Z1 : 16.00  Z2 : 96.00 Enraxe :  44.80\n",
      "m : 0.80 Z1 : 17.00  Z2 :102.00 Enraxe :  47.60\n",
      "m : 0.80 Z1 : 18.00  Z2 :108.00 Enraxe :  50.40\n",
      "m : 0.80 Z1 : 19.00  Z2 :114.00 Enraxe :  53.20\n",
      "m : 0.80 Z1 : 20.00  Z2 :120.00 Enraxe :  56.00\n",
      "m : 0.80 Z1 : 21.00  Z2 :126.00 Enraxe :  58.80\n",
      "m : 0.80 Z1 : 22.00  Z2 :132.00 Enraxe :  61.60\n",
      "m : 0.80 Z1 : 23.00  Z2 :138.00 Enraxe :  64.40\n",
      "m : 1.00 Z1 : 16.00  Z2 : 96.00 Enraxe :  56.00\n",
      "m : 1.00 Z1 : 17.00  Z2 :102.00 Enraxe :  59.50\n",
      "m : 1.00 Z1 : 18.00  Z2 :108.00 Enraxe :  63.00\n",
      "m : 1.00 Z1 : 19.00  Z2 :114.00 Enraxe :  66.50\n",
      "m : 1.00 Z1 : 20.00  Z2 :120.00 Enraxe :  70.00\n",
      "m : 1.00 Z1 : 21.00  Z2 :126.00 Enraxe :  73.50\n",
      "m : 1.00 Z1 : 22.00  Z2 :132.00 Enraxe :  77.00\n",
      "m : 1.00 Z1 : 23.00  Z2 :138.00 Enraxe :  80.50\n",
      "m : 1.25 Z1 : 16.00  Z2 : 96.00 Enraxe :  70.00\n",
      "m : 1.25 Z1 : 17.00  Z2 :102.00 Enraxe :  74.38\n",
      "m : 1.25 Z1 : 18.00  Z2 :108.00 Enraxe :  78.75\n",
      "m : 1.25 Z1 : 19.00  Z2 :114.00 Enraxe :  83.12\n",
      "m : 1.25 Z1 : 20.00  Z2 :120.00 Enraxe :  87.50\n",
      "m : 1.25 Z1 : 21.00  Z2 :126.00 Enraxe :  91.88\n",
      "m : 1.25 Z1 : 22.00  Z2 :132.00 Enraxe :  96.25\n",
      "m : 1.25 Z1 : 23.00  Z2 :138.00 Enraxe : 100.62\n"
     ]
    }
   ],
   "source": [
    "TZ1 = np.array((16,17,18,19,20,21,22,23))\n",
    "Tm = np.array((0.8,1,1.25))\n",
    "for m in Tm:\n",
    "    for Z1 in TZ1:\n",
    "        Z2 = (Z1)/i\n",
    "        a = m*(Z1+Z2)/2\n",
    "        print('m :%5.2f Z1 :%6.2f  Z2 :%6.2f Enraxe : %6.2f'%(m,Z1,Z2,a))"
   ]
  },
  {
   "cell_type": "markdown",
   "metadata": {},
   "source": [
    "A priori :\n",
    "* $m=m_0=1$mm, $Z_1=19$ et $Z_2=114$\n",
    "* $m=m_0=1$mm, $Z_1=20$ et $Z_2=120$\n",
    "* $m=m_0=1.25$mm, $Z_1=16$ et $Z_2=96$\n",
    "\n",
    "pourrait convenir mais il faudra prévoir du déport ..."
   ]
  },
  {
   "cell_type": "markdown",
   "metadata": {},
   "source": [
    "**Question 4):**\n",
    "\n",
    "Contrainte en pied de dents pour $E_1$ :"
   ]
  },
  {
   "cell_type": "markdown",
   "metadata": {},
   "source": [
    "<div class=\"alert alert-info\" > \n",
    "Contrainte en pieds de dent (formule approchée) :\n",
    "    $$\\sigma=\\frac{5.5T}{b m}$$\n",
    "</div>  "
   ]
  },
  {
   "cell_type": "markdown",
   "metadata": {},
   "source": [
    "$$\\sigma=\\frac{5.5T}{b m_0}=\\frac{5.5C_1}{b m_0 r_1} =\\frac{5.5C_1}{b m_0 a}\\frac{1+i}{i}$$\n",
    "    \n",
    "$$\\sigma \\leq \\sigma_{FLim}\\Rightarrow b m_0\\geq \\frac{5.5C_1}{\\sigma_{FLim} a}\\frac{1+i}{i}$$"
   ]
  },
  {
   "cell_type": "markdown",
   "metadata": {},
   "source": [
    "Doc constructeur -> acier non trempé "
   ]
  },
  {
   "cell_type": "code",
   "execution_count": 252,
   "metadata": {},
   "outputs": [
    {
     "name": "stdout",
     "output_type": "stream",
     "text": [
      "Example de valeurs de bm0 en mm^2 : [5.31 4.58 4.03 2.89]\n"
     ]
    }
   ],
   "source": [
    "sigFlim = np.array((125,145,165,230))   # 1er valeur de sigFlim pour des aciers \"bas de gamme\"\n",
    "bm0 = ((5.5*C1*1e3)/(sigFlim*a))*(1+i)/i\n",
    "print('Example de valeurs de bm0 en mm^2 :',np.round(bm0,2))"
   ]
  },
  {
   "cell_type": "markdown",
   "metadata": {},
   "source": [
    "Avec un module $m_0=1$mm cela donne directement les largeurs minimales de denture pour respecter la limite imposée par le contrainte en pieds de dents."
   ]
  },
  {
   "cell_type": "markdown",
   "metadata": {},
   "source": [
    "**Question 5):**\n",
    "\n",
    "Pression de contact pour $E_1$ :"
   ]
  },
  {
   "cell_type": "markdown",
   "metadata": {},
   "source": [
    "<div class=\"alert alert-info\" > \n",
    "Pression maxi de Hertz : $$\\mathcal{P}_{H}=\\sqrt{\\frac{T}{b\\cos\\alpha_0}\\frac{r_1+r_2}{r_1r_2\\sin\\alpha_0}\\frac{E^*}{\\pi}}\\quad E^*=\\frac{E}{2(1-\\nu^2)}$$\n",
    "</div>"
   ]
  },
  {
   "cell_type": "markdown",
   "metadata": {},
   "source": [
    "$$\\mathcal{P}_{H} \\leq \\sigma_{Hlim}$$\n",
    "\n",
    "$$b\\geq\\frac{T}{\\sigma_{Hlim}^2\\cos\\alpha_0}\\frac{r_1+r_2}{r_1r_2\\sin\\alpha_0}\\frac{E^*}{\\pi}$$"
   ]
  },
  {
   "cell_type": "code",
   "execution_count": 253,
   "metadata": {},
   "outputs": [
    {
     "name": "stdout",
     "output_type": "stream",
     "text": [
      "E*=115385 MPa\n",
      "bmini en mm : [25.24 19.32 16.46  6.62]\n"
     ]
    }
   ],
   "source": [
    "E=210000 # E en MPa\n",
    "nu=0.3 # pour un acier.\n",
    "Eet=E/(2*(1-nu*nu))\n",
    "T1 = C1*1e3/r1\n",
    "print('E*=%.f MPa'%Eet)\n",
    "\n",
    "sigHlim = np.array((315,360,390,615))  # 1er valeur de sigFHim pour des aciers \"bas de gamme\"\n",
    "\n",
    "bmini = T1*(r1+r2)*Eet/(sigHlim**2*np.cos(alpha*np.pi/180)*r1*r2*np.sin(alpha*np.pi/180)*np.pi)\n",
    "print('bmini en mm :',np.round(bmini,2))"
   ]
  },
  {
   "cell_type": "markdown",
   "metadata": {},
   "source": [
    "On voit ici que c'est la limite imposée par la pression de contact qui est dimensionnante ..\n",
    "\n",
    "Si on conserve $m_0=1$mm, pour respecter :\n",
    "$$3 <\\frac{b}{m} <10$$\n",
    "\n",
    "on pourra choisir un acier **XC48** ...-> $b=6.62$mm"
   ]
  },
  {
   "cell_type": "markdown",
   "metadata": {},
   "source": [
    "**Question 6):**\n",
    "\n",
    "Matériaux compatible avec la doc constructeur ... qui annonce un couple maxi de 83 N.m (que l'on supposera sur l'arbre de sortie)\n",
    "\n",
    "On recalcule les bornes inférieures de $bm_0$ et $b$ :"
   ]
  },
  {
   "cell_type": "code",
   "execution_count": 254,
   "metadata": {},
   "outputs": [
    {
     "name": "stdout",
     "output_type": "stream",
     "text": [
      "Example de valeurs de bm0 en mm^2 :\n",
      " [42.34 36.5  32.08 23.01 20.76 19.6  16.8  15.8  14.91 14.5  13.93 13.57]\n",
      "bmini en mm :\n",
      " [201.08 153.96 131.18  52.75  39.58  35.47  28.96  24.63  11.81  11.45\n",
      "  10.95  10.95]\n"
     ]
    }
   ],
   "source": [
    "C1 = 83*i # couple maxi doc constructeur ...\n",
    "\n",
    "sigFlim = np.array((125,145,165,230,255,270,315,335,355,365,380,390))\n",
    "bm0 = (5.5*C1*1e3)/(sigFlim*a)*(1+i)/i\n",
    "print('Example de valeurs de bm0 en mm^2 :\\n',np.round(bm0,2))\n",
    "\n",
    "T = C1*1e3/r1\n",
    "sigHlim = np.array((315,360,390,615,710,750,830,900,1300,1320,1350,1350))\n",
    "bmini = T*(r1+r2)*Eet/(sigHlim**2*np.cos(alpha*np.pi/180)*r1*r2*np.sin(alpha*np.pi/180)*np.pi)\n",
    "print('bmini en mm :\\n',np.round(bmini,2))"
   ]
  },
  {
   "cell_type": "markdown",
   "metadata": {},
   "source": [
    "1. Pour respecter ce couple et avoir $b/m$ pas de loin de 10, il faut prendre $m_0=1.25$mm et $b=13.57/1.25=10.85$mm et le meilleur acier : **35NCD6** -> dans ce cas $Z_1=16$, $Z_2=96$, $a=70$mm, donc $x_1+x_2<0$ respecter l'entraxe, mais il fraudra avoir $x_1 >0$ pour limiter les interférences de taillage pour $Z_1=16$.\n",
    "\n",
    "2. Sur la doc constructeur on peut estimer $b\\simeq30$mm, dans ce cas difficile de respecter les conditions de taillage : $3 < b/m < 10$ avec $0.8$mm $< m_0 < 1.25$mm."
   ]
  },
  {
   "cell_type": "code",
   "execution_count": 255,
   "metadata": {},
   "outputs": [
    {
     "name": "stdout",
     "output_type": "stream",
     "text": [
      "Déport sur le pignon pour Z1=16 :x1=0.0642\n"
     ]
    }
   ],
   "source": [
    "Zmini = 16\n",
    "x1 = 1 - (Zmini/2)*np.sin(alpha0*np.pi/180)**2 \n",
    "print('Déport sur le pignon pour Z1=16 :x1=%.4f'%x1)"
   ]
  },
  {
   "cell_type": "markdown",
   "metadata": {},
   "source": [
    "Donc les informations de la doc constructeur ne semble pas cohérentes ...\n",
    "* Solution 1) ->  certainement possible, $x_1$ assez faible pour avoir $x_1+x_2<0$ mais couple maxi sans doute surestimé ..\n",
    "* Solution 2) -> Schéma sans doute approximatif (denture moins large que la représentation).\n",
    "\n",
    "Doc peu fiaible ..."
   ]
  },
  {
   "cell_type": "markdown",
   "metadata": {},
   "source": [
    "**Question 7):**\n",
    "\n",
    "Choix d'une solution ..."
   ]
  },
  {
   "cell_type": "code",
   "execution_count": 256,
   "metadata": {},
   "outputs": [
    {
     "name": "stdout",
     "output_type": "stream",
     "text": [
      "Module 1.00mm, Z1= 19.00, Z2=114.00, a= 66.50mm, r1=  9.50mm, r2= 57.00mm\n",
      "\n",
      "Contraintes pieds et conctact MPa:    34,   292\n"
     ]
    }
   ],
   "source": [
    "E=210000 # E en MPa\n",
    "nu=0.3 # pour un acier.\n",
    "Eet=E/(2*(1-nu*nu))\n",
    "\n",
    "m0 = 1.00\n",
    "i = 250/1500\n",
    "Z1 = 19\n",
    "Z2 = Z1/i\n",
    "r1 = m0*Z1/2\n",
    "r2 = m0*Z2/2\n",
    "a = r1 + r2\n",
    "b= 30\n",
    "print('Module %.2fmm, Z1=%6.2f, Z2=%6.2f, a=%6.2fmm, r1=%6.2fmm, r2=%6.2fmm'%(m0,Z1,Z2,a,r1,r2))\n",
    "C1 = 10*i/0.96\n",
    "T = C1*1e3/r1\n",
    "sigF = (5.5*T)/(b*m0)\n",
    "sigH = np.sqrt(T*(r1+r2)*Eet/(b*np.cos(alpha*np.pi/180)*r1*r2*np.sin(alpha*np.pi/180)*np.pi))\n",
    "print('\\nContraintes pieds et conctact MPa: %5.0f, %5.0f'%(sigF,sigH))"
   ]
  },
  {
   "cell_type": "markdown",
   "metadata": {},
   "source": [
    "Solution qui fonctionne mais il faudra prévoir une somme des déports >0 car entraxe trop faible."
   ]
  },
  {
   "cell_type": "markdown",
   "metadata": {},
   "source": [
    "**Question 8):**\n",
    "\n",
    "Angle de pression en fonctionnement pour $x_1=0.7$ et $x_2=-0.2$"
   ]
  },
  {
   "cell_type": "markdown",
   "metadata": {},
   "source": [
    "<div class=\"alert alert-info\">     \n",
    "Engrenement sans jeux :\n",
    "    $$\\mathrm{inv}(\\alpha)-\\mathrm{inv}(\\alpha_0)=2\\tan\\alpha_0\\dfrac{x_1+x_2}{Z_1+Z_2}$$\n",
    "\n",
    "Avec:\n",
    "    $$\\mathrm{inv}(x)=\\tan(x)-x\\text{ et $x$ en radians}$$    \n",
    "Relation entre le module de taillage $m_0$ et de fonctionnement $m$ :\n",
    "    $$m\\cos\\alpha=m_0\\cos\\alpha_0$$   \n",
    "</div>"
   ]
  },
  {
   "cell_type": "markdown",
   "metadata": {},
   "source": [
    "Pour trouver $\\alpha$ à partir de $x_1+x_2$ et $Z_1+Z_2$ faut résoudre $\\mathrm{inv}(x)=\\tan(x)-x=C^{te}$\n",
    "\n",
    "Ici en quelques essais par dichotomie on trouve :"
   ]
  },
  {
   "cell_type": "code",
   "execution_count": 257,
   "metadata": {},
   "outputs": [
    {
     "name": "stdout",
     "output_type": "stream",
     "text": [
      "Somme des déports : 0.5003\n"
     ]
    }
   ],
   "source": [
    "alpha0=20\n",
    "alpha =21.115\n",
    "Z1 = 19\n",
    "Z2 = Z1*6\n",
    "\n",
    "def inv(x):\n",
    "    return np.tan(x)-x\n",
    "\n",
    "somdep = (inv(alpha*np.pi/180) - inv(alpha0*np.pi/180))*(Z1+Z2)/(2*np.tan(alpha0*np.pi/180))\n",
    "print('Somme des déports : %.4f'%somdep)"
   ]
  },
  {
   "cell_type": "markdown",
   "metadata": {},
   "source": [
    "Avec ces déports on a :"
   ]
  },
  {
   "cell_type": "code",
   "execution_count": 258,
   "metadata": {},
   "outputs": [
    {
     "name": "stdout",
     "output_type": "stream",
     "text": [
      "Grandeurs en fonctionnement : m=1.007mm, r1=9.57mm, r2=57.42mm, a=66.99mm\n"
     ]
    }
   ],
   "source": [
    "m0 = 1\n",
    "m = m0*np.cos(alpha0*np.pi/180)/np.cos(alpha*np.pi/180)\n",
    "a = m*(Z1+Z2)/2\n",
    "r1 = m*Z1/2\n",
    "r2 = m*Z2/2\n",
    "print('Grandeurs en fonctionnement : m=%.3fmm, r1=%.2fmm, r2=%.2fmm, a=%.2fmm'%(m,r1,r2,a))"
   ]
  },
  {
   "cell_type": "markdown",
   "metadata": {},
   "source": [
    "Sans surprise, la somme des déports est trop petite .. entraxe trop petit .."
   ]
  },
  {
   "cell_type": "markdown",
   "metadata": {},
   "source": [
    "Estimation de l'usure :"
   ]
  },
  {
   "cell_type": "markdown",
   "metadata": {},
   "source": [
    "<div class=\"alert alert-info\"> \n",
    "Le rapport de conduite est la grandeur sans dimension :\n",
    "$$C=\\varepsilon_\\alpha=\\dfrac{AI}{p_b} + \\dfrac{IB}{p_b}$$\n",
    "<br>\n",
    "Avec :\n",
    "    <li>$AI=\\sqrt{(r_1+h_{a1})^2-(r_1\\cos\\alpha)^2}-r_1\\sin\\alpha$ : Longueur d'appproche dans le mvt d'engrènement.</li><br>\n",
    "    <li>$IB=\\sqrt{(r_2+h_{a2})^2-(r_2\\cos\\alpha)^2}-r_2\\sin\\alpha$  : Longueur de retrait dans le mvt. d'engrènement.</li><br>\n",
    "    <li>$p_b = \\pi m\\cos\\alpha$ : Pas de base, i.e distance entre 2 flancs consécutifs de la denture prise sur le diamètre de base.</li><br>\n",
    "<br>\n",
    "Le rapport de conduite indique le nombre de dents simultanément en contact lors de l'engrènemenet, il ne doit jamais être inférieur à 1. En pratique on essaie d'avoir $\\varepsilon_\\alpha \\geq \\simeq 1.3$.\n",
    "</div>"
   ]
  },
  {
   "cell_type": "markdown",
   "metadata": {},
   "source": [
    "<div class=\"alert alert-info\">\n",
    "Au cours de l'engrènement il y a entre la dent menante et la menée :\n",
    "<li>Roulement et glissement sur les longueurs d'approche et de retrait, ce glissement est maximal en $A$ et en $B$.</li>\n",
    "<li>Roulement sans glissement au point de contact $I$.</li>\n",
    "<br>\n",
    "L'usure est fonction de la vitesse de glissement et de la pression de contact, pour les engrenanges elle est inévitable, en pratique on cherche à la limiter et à équilibrer les usures de la roue et pignon, c'est à dire à égaliser les glissements spécifiques maximuns de la roue et du pignon.\n",
    "<br>\n",
    "<br>\n",
    "On compare :\n",
    " <li>Pour roue : $\\dfrac{AI}{r_2\\sin\\alpha}$.</li>\n",
    " <li>Pour le pignon : $\\dfrac{IB}{r_1\\sin\\alpha}$.</li>\n",
    "</div>"
   ]
  },
  {
   "cell_type": "code",
   "execution_count": 259,
   "metadata": {},
   "outputs": [
    {
     "name": "stdout",
     "output_type": "stream",
     "text": [
      "Gliss. spec. maxi : roue(1)->    0.1669  roue(2)->    0.6213\n",
      "Coef usure   maxi : roue(1)->   22.21    roue(2)->   82.71\n"
     ]
    }
   ],
   "source": [
    "# Pour être sur on reprend les calculs précédents :\n",
    "alpha0 = 20\n",
    "alpha  = 21.115\n",
    "Z1 = 19\n",
    "Z2 = Z1*6\n",
    "m0 = 1\n",
    "m = m0*np.cos(alpha0*np.pi/180)/np.cos(alpha*np.pi/180)\n",
    "\n",
    "a = m*(Z1+Z2)/2\n",
    "r1 = m*Z1/2\n",
    "r2 = m*Z2/2\n",
    "x1=0.7\n",
    "x2 = -0.2\n",
    "\n",
    "calpha=np.cos(alpha*np.pi/180)\n",
    "salpha=np.sin(alpha*np.pi/180)\n",
    "\n",
    "# Rayons sur le pignon :\n",
    "rb1 = r1*calpha\n",
    "ha1 = m*(1+x1)\n",
    "# Rayons sur la roue :\n",
    "rb2 = r2*calpha\n",
    "ha2 = m*(1+x2)\n",
    "# Pas de base :\n",
    "pb = np.pi*m*calpha\n",
    "# Longueur d'approche et de retrait :\n",
    "IH1 = r1*salpha\n",
    "IH2 = r2*salpha\n",
    "AI = np.sqrt((r1+ha1)**2 -rb1**2)-IH1\n",
    "IB = np.sqrt((r2+ha2)**2 -rb2**2)-IH2\n",
    "# Calcul des glissements :\n",
    "Gs1 = AI/IH2\n",
    "Gs2 = IB/IH1\n",
    "print('Gliss. spec. maxi : roue(1)->%10.4f  roue(2)->%10.4f'%(Gs1,Gs2))\n",
    "# Coefficient d'usure :\n",
    "us1 = AI/pb*Z1\n",
    "us2 = IB/pb*Z2\n",
    "print('Coef usure   maxi : roue(1)->%8.2f    roue(2)->%8.2f'%(us1,us2))"
   ]
  },
  {
   "cell_type": "markdown",
   "metadata": {},
   "source": [
    "### Pb d'équilibrage de l'usure ..."
   ]
  },
  {
   "cell_type": "markdown",
   "metadata": {},
   "source": [
    "On peut calculer la somme des déports qui conviendrait pour avoir le bon entraxe ...\n",
    "\n",
    "On commence par déterminer l'angle de pression en fonctionnement qui convient avec :"
   ]
  },
  {
   "cell_type": "markdown",
   "metadata": {},
   "source": [
    "$$a\\cos\\alpha=a_0\\cos\\alpha_0$$\n",
    "\n",
    "$$\\cos\\alpha = \\frac{a_0\\cos\\alpha_0}{a}$$"
   ]
  },
  {
   "cell_type": "code",
   "execution_count": 260,
   "metadata": {},
   "outputs": [
    {
     "name": "stdout",
     "output_type": "stream",
     "text": [
      "alpha = 21.794deg\n"
     ]
    }
   ],
   "source": [
    "m0 = 1.00\n",
    "Z1 = 19\n",
    "Z2 = Z1*6\n",
    "a0 = m0*(Z1+Z2)/2\n",
    "a = 67.3\n",
    "alpha = np.arccos(a0*np.cos(alpha0*np.pi/180)/a)*180/np.pi\n",
    "print('alpha = %.3fdeg'%alpha)"
   ]
  },
  {
   "cell_type": "markdown",
   "metadata": {},
   "source": [
    "Avec la formule d'engrènement sans jeux on a :"
   ]
  },
  {
   "cell_type": "code",
   "execution_count": 261,
   "metadata": {},
   "outputs": [
    {
     "name": "stdout",
     "output_type": "stream",
     "text": [
      "x1+x2 = 0.8349\n"
     ]
    }
   ],
   "source": [
    "somdep = (inv(alpha*np.pi/180) - inv(alpha0*np.pi/180))*(Z1+Z2)/(2*np.tan(alpha0*np.pi/180))\n",
    "print('x1+x2 = %.4f'%somdep)"
   ]
  },
  {
   "cell_type": "markdown",
   "metadata": {},
   "source": [
    "-> à repartir sur le pignon et la roue pour équilibrer le glissement ...."
   ]
  },
  {
   "cell_type": "code",
   "execution_count": 262,
   "metadata": {},
   "outputs": [
    {
     "data": {
      "text/plain": [
       "<matplotlib.legend.Legend at 0x11b33af70>"
      ]
     },
     "execution_count": 262,
     "metadata": {},
     "output_type": "execute_result"
    },
    {
     "data": {
      "image/png": "[encoded data removed]",
      "text/plain": [
       "<Figure size 1080x360 with 1 Axes>"
      ]
     },
     "metadata": {
      "needs_background": "light"
     },
     "output_type": "display_data"
    }
   ],
   "source": [
    "import matplotlib.pyplot as plt # On importe une librairie graphique.\n",
    "\n",
    "m0 = 1.00\n",
    "Z1 = 19\n",
    "Z2 = Z1*6\n",
    "m  = m0*np.cos(alpha0*np.pi/180)/np.cos(alpha*np.pi/180)\n",
    "a  = m*(Z1+Z2)/2\n",
    "r1 = m*Z1/2\n",
    "r2 = m*Z2/2\n",
    "\n",
    "calpha=np.cos(alpha*np.pi/180)\n",
    "salpha=np.sin(alpha*np.pi/180)\n",
    "\n",
    "# On génére une vecteur de 100 valeurs entres -0.5 et 1.00 pour le déport sur le pignon\n",
    "x1 = np.linspace(-0.5,1.00,100)\n",
    "\n",
    "rb1 = r1*calpha\n",
    "rb2 = r2*calpha\n",
    "x2 = somdep - x1      \n",
    "ha1 = m*(1+x1)\n",
    "ha2 = m*(1+x2)\n",
    "\n",
    "# Pas de base :\n",
    "pb = np.pi*m*calpha\n",
    "# Longueur d'approche et de retrait :\n",
    "IH1 = r1*salpha\n",
    "IH2 = r2*salpha\n",
    "AI = np.sqrt((r1+ha1)**2 -rb1**2)-IH1\n",
    "IB = np.sqrt((r2+ha2)**2 -rb2**2)-IH2\n",
    "C = (AI+IB)/pb\n",
    "\n",
    "Gs2 = AI/IH2\n",
    "Gs1 = IB/IH1\n",
    "# Tracé :\n",
    "plt.figure(figsize=(15,5))\n",
    "plt.plot(x1,C,'r-',label='Rapport de conduite')\n",
    "plt.plot(x1,Gs2,'b-',label='Gliss. Roue')\n",
    "plt.plot(x1,Gs1,'g-',label='Gliss. Pigon')\n",
    "plt.xlabel('Coeff de déport sur le pignon')\n",
    "plt.grid()\n",
    "plt.legend(loc='center right')"
   ]
  },
  {
   "cell_type": "markdown",
   "metadata": {},
   "source": [
    "### Difficile d'équilibrer les usures !!!"
   ]
  },
  {
   "cell_type": "code",
   "execution_count": null,
   "metadata": {},
   "outputs": [],
   "source": []
  }
 ],
 "metadata": {
  "kernelspec": {
   "display_name": "Python 3",
   "language": "python",
   "name": "python3"
  },
  "language_info": {
   "codemirror_mode": {
    "name": "ipython",
    "version": 3
   },
   "file_extension": ".py",
   "mimetype": "text/x-python",
   "name": "python",
   "nbconvert_exporter": "python",
   "pygments_lexer": "ipython3",
   "version": "3.8.5"
  }
 },
 "nbformat": 4,
 "nbformat_minor": 4
}
